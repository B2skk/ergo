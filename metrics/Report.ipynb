{
 "cells": [
  {
   "cell_type": "markdown",
   "metadata": {},
   "source": [
    "\n",
    "# Performance And Costing Analysis of Ergo Node\n",
    "\n",
    "## Introduction\n",
    "This notebook uses `Metrics.sqlite` database collected during full node syncronization.\n",
    "See `README.md` for detail of database schema.\n"
   ]
  },
  {
   "cell_type": "markdown",
   "metadata": {},
   "source": [
    "\n",
    "## Setup\n",
    "If necessary uncomment and run the following commands to setup necessary packages.\n"
   ]
  },
  {
   "cell_type": "code",
   "execution_count": 1,
   "metadata": {},
   "outputs": [
    {
     "name": "stdout",
     "output_type": "stream",
     "text": [
      "Please specify one nbextension/package at a time\r\n"
     ]
    }
   ],
   "source": [
    "#!pip install ipython-sql\n",
    "#!pip install jupyter_contrib_nbextensions\n",
    "#!jupyter contrib nbextension install --user\n",
    "!jupyter nbextension enable python-markdown / main\n"
   ]
  },
  {
   "cell_type": "code",
   "execution_count": 2,
   "metadata": {
    "pycharm": {
     "name": "#%%\n"
    },
    "tags": [
     "hide"
    ]
   },
   "outputs": [],
   "source": [
    "# open sqlite connection to perform helper queries\n",
    "import pandas as pd\n",
    "import sqlite3\n",
    "\n",
    "conn = sqlite3.connect(\"../Metrics.sqlite\")\n"
   ]
  },
  {
   "cell_type": "markdown",
   "metadata": {
    "pycharm": {
     "name": "#%% md\n"
    }
   },
   "source": [
    "## v5.0 Validation\n",
    "- make sure validateTxStateful recorded for each transaction of the block (should be empty)"
   ]
  },
  {
   "cell_type": "code",
   "execution_count": 3,
   "metadata": {
    "pycharm": {
     "name": "#%%\n"
    }
   },
   "outputs": [
    {
     "data": {
      "text/html": [
       "<div>\n",
       "<style scoped>\n",
       "    .dataframe tbody tr th:only-of-type {\n",
       "        vertical-align: middle;\n",
       "    }\n",
       "\n",
       "    .dataframe tbody tr th {\n",
       "        vertical-align: top;\n",
       "    }\n",
       "\n",
       "    .dataframe thead th {\n",
       "        text-align: right;\n",
       "    }\n",
       "</style>\n",
       "<table border=\"1\" class=\"dataframe\">\n",
       "  <thead>\n",
       "    <tr style=\"text-align: right;\">\n",
       "      <th></th>\n",
       "      <th>blockId</th>\n",
       "      <th>c</th>\n",
       "      <th>n</th>\n",
       "    </tr>\n",
       "  </thead>\n",
       "  <tbody>\n",
       "  </tbody>\n",
       "</table>\n",
       "</div>"
      ],
      "text/plain": [
       "Empty DataFrame\n",
       "Columns: [blockId, c, n]\n",
       "Index: []"
      ]
     },
     "execution_count": 3,
     "metadata": {},
     "output_type": "execute_result"
    }
   ],
   "source": [
    "pd.read_sql_query(f\"\"\"\n",
    "    -- invalid tx_num\n",
    "    select b.blockId, t.tx_count as c, b.tx_num as n\n",
    "    from (select blockId, count(*) as tx_count\n",
    "          from validateTxStateful\n",
    "          group by blockId) as t\n",
    "             join applyTransactions as b on b.blockId = t.blockId\n",
    "    where c != n;\n",
    "\"\"\", conn)"
   ]
  },
  {
   "cell_type": "markdown",
   "metadata": {},
   "source": [
    "- make sure recored block cost = sum of recorded tx costs (should be empty)"
   ]
  },
  {
   "cell_type": "code",
   "execution_count": 4,
   "metadata": {
    "pycharm": {
     "name": "#%%\n"
    }
   },
   "outputs": [
    {
     "data": {
      "text/html": [
       "<div>\n",
       "<style scoped>\n",
       "    .dataframe tbody tr th:only-of-type {\n",
       "        vertical-align: middle;\n",
       "    }\n",
       "\n",
       "    .dataframe tbody tr th {\n",
       "        vertical-align: top;\n",
       "    }\n",
       "\n",
       "    .dataframe thead th {\n",
       "        text-align: right;\n",
       "    }\n",
       "</style>\n",
       "<table border=\"1\" class=\"dataframe\">\n",
       "  <thead>\n",
       "    <tr style=\"text-align: right;\">\n",
       "      <th></th>\n",
       "      <th>blockId</th>\n",
       "      <th>sum_tx_costs</th>\n",
       "      <th>block_cost</th>\n",
       "    </tr>\n",
       "  </thead>\n",
       "  <tbody>\n",
       "  </tbody>\n",
       "</table>\n",
       "</div>"
      ],
      "text/plain": [
       "Empty DataFrame\n",
       "Columns: [blockId, sum_tx_costs, block_cost]\n",
       "Index: []"
      ]
     },
     "execution_count": 4,
     "metadata": {},
     "output_type": "execute_result"
    }
   ],
   "source": [
    "pd.read_sql_query(f\"\"\"\n",
    "    -- invalid tx cost\n",
    "    select b.blockId, t.sum_costs as sum_tx_costs, b.cost as block_cost\n",
    "    from (select blockId, sum(cost) as sum_costs\n",
    "          from validateTxStateful\n",
    "          group by blockId) as t\n",
    "             join applyTransactions as b on b.blockId = t.blockId\n",
    "    where sum_tx_costs != block_cost;\n",
    "\"\"\", conn)\n"
   ]
  },
  {
   "cell_type": "markdown",
   "metadata": {
    "pycharm": {
     "name": "#%% md\n"
    }
   },
   "source": [
    "- now many transactions have negative cost (should be empty)"
   ]
  },
  {
   "cell_type": "code",
   "execution_count": 5,
   "metadata": {
    "pycharm": {
     "name": "#%%\n"
    }
   },
   "outputs": [
    {
     "data": {
      "text/html": [
       "<div>\n",
       "<style scoped>\n",
       "    .dataframe tbody tr th:only-of-type {\n",
       "        vertical-align: middle;\n",
       "    }\n",
       "\n",
       "    .dataframe tbody tr th {\n",
       "        vertical-align: top;\n",
       "    }\n",
       "\n",
       "    .dataframe thead th {\n",
       "        text-align: right;\n",
       "    }\n",
       "</style>\n",
       "<table border=\"1\" class=\"dataframe\">\n",
       "  <thead>\n",
       "    <tr style=\"text-align: right;\">\n",
       "      <th></th>\n",
       "      <th>count(*)</th>\n",
       "    </tr>\n",
       "  </thead>\n",
       "  <tbody>\n",
       "    <tr>\n",
       "      <th>0</th>\n",
       "      <td>0</td>\n",
       "    </tr>\n",
       "  </tbody>\n",
       "</table>\n",
       "</div>"
      ],
      "text/plain": [
       "   count(*)\n",
       "0         0"
      ]
     },
     "execution_count": 5,
     "metadata": {},
     "output_type": "execute_result"
    }
   ],
   "source": [
    "pd.read_sql_query(f\"\"\"\n",
    "-- count tx with negative cost\n",
    "select count(*)\n",
    "from validateTxStateful\n",
    "where cost < 0;\n",
    "\"\"\", conn)\n"
   ]
  },
  {
   "cell_type": "markdown",
   "metadata": {
    "pycharm": {
     "name": "#%% md\n"
    }
   },
   "source": [
    "## Cross Version validation\n",
    "- Make sure recorded data for v5 and v4 have the same `height` and `tx_num` for all blockIds"
   ]
  },
  {
   "cell_type": "code",
   "execution_count": 6,
   "metadata": {
    "pycharm": {
     "name": "#%%\n"
    }
   },
   "outputs": [
    {
     "name": "stdout",
     "output_type": "stream",
     "text": [
      "ok {'appendFullBlockOk': True, 'applyTransactionsOk': True, 'createUtxoStateOk': True}\n"
     ]
    }
   ],
   "source": [
    "checks = dict(\n",
    "    appendFullBlockOk=pd.read_sql_query(f\"\"\"\n",
    "        -- validate appendFullBlock tables\n",
    "        select *\n",
    "        from appendFullBlock a1\n",
    "                 join appendFullBlock4 a2 on a1.blockId = a2.blockId\n",
    "        where a1.height != a2.height\n",
    "           or a1.tx_num != a2.tx_num;\n",
    "        \"\"\", conn).size == 0,\n",
    "    applyTransactionsOk=pd.read_sql_query(f\"\"\"\n",
    "        select *\n",
    "        from applyTransactions a1\n",
    "                 join applyTransactions4 a2 on a1.blockId = a2.blockId\n",
    "        where a1.height != a2.height\n",
    "           or a1.tx_num != a2.tx_num;\n",
    "        \"\"\", conn).size == 0,\n",
    "    createUtxoStateOk=pd.read_sql_query(f\"\"\"\n",
    "        select *\n",
    "        from createUtxoState a1\n",
    "                 join createUtxoState4 a2 on a1.blockId = a2.blockId\n",
    "        where a1.height != a2.height\n",
    "           or a1.tx_num != a2.tx_num;\n",
    "        \"\"\", conn).size == 0\n",
    ")\n",
    "if not (checks.get(\"appendFullBlockOk\") and checks.get(\"applyTransactionsOk\") and checks.get(\n",
    "        \"createUtxoStateOk\")):\n",
    "    ok = checks\n",
    "else:\n",
    "    ok = \"ok\"\n",
    "print(ok, checks)"
   ]
  },
  {
   "cell_type": "markdown",
   "metadata": {
    "pycharm": {
     "name": "#%% md\n"
    },
    "variables": {
     " ok ": "ok",
     "-ok-": "<p><strong>SyntaxError</strong>: invalid syntax (<ipython-input-12-7b1f9aef2133>, line 1)</p>\n"
    }
   },
   "source": [
    "\n",
    "## v5.0 Analysis\n",
    "### Block Validation Analysis\n",
    "In this section we compare script validation against block validation times.\n",
    "\n",
    "#### Sizes of the recorded tables"
   ]
  },
  {
   "cell_type": "code",
   "execution_count": 7,
   "metadata": {
    "pycharm": {
     "name": "#%%\n"
    }
   },
   "outputs": [
    {
     "data": {
      "text/html": [
       "<div>\n",
       "<style scoped>\n",
       "    .dataframe tbody tr th:only-of-type {\n",
       "        vertical-align: middle;\n",
       "    }\n",
       "\n",
       "    .dataframe tbody tr th {\n",
       "        vertical-align: top;\n",
       "    }\n",
       "\n",
       "    .dataframe thead th {\n",
       "        text-align: right;\n",
       "    }\n",
       "</style>\n",
       "<table border=\"1\" class=\"dataframe\">\n",
       "  <thead>\n",
       "    <tr style=\"text-align: right;\">\n",
       "      <th></th>\n",
       "      <th>appendFullBlock</th>\n",
       "      <th>applyTransactions</th>\n",
       "      <th>createUtxoState</th>\n",
       "      <th>validateTxStateful</th>\n",
       "      <th>verifyScript</th>\n",
       "    </tr>\n",
       "  </thead>\n",
       "  <tbody>\n",
       "    <tr>\n",
       "      <th>0</th>\n",
       "      <td>488100</td>\n",
       "      <td>488100</td>\n",
       "      <td>488100</td>\n",
       "      <td>1321800</td>\n",
       "      <td>3823200</td>\n",
       "    </tr>\n",
       "  </tbody>\n",
       "</table>\n",
       "</div>"
      ],
      "text/plain": [
       "   appendFullBlock  applyTransactions  createUtxoState  validateTxStateful  \\\n",
       "0           488100             488100           488100             1321800   \n",
       "\n",
       "   verifyScript  \n",
       "0       3823200  "
      ]
     },
     "execution_count": 7,
     "metadata": {},
     "output_type": "execute_result"
    }
   ],
   "source": [
    "pd.read_sql_query(f\"\"\"\n",
    "    select * from\n",
    "    (select count(*) as appendFullBlock\n",
    "    from appendFullBlock),\n",
    "    (select count(*) as applyTransactions\n",
    "    from applyTransactions),\n",
    "    (select count(*) as createUtxoState\n",
    "    from createUtxoState),\n",
    "    (select count(*) as validateTxStateful\n",
    "    from validateTxStateful),\n",
    "    (select count(*) as verifyScript\n",
    "    from verifyScript)\n",
    "\"\"\", conn)\n"
   ]
  },
  {
   "cell_type": "markdown",
   "metadata": {
    "pycharm": {
     "name": "#%% md\n"
    }
   },
   "source": [
    "#### Comparing Stages of Block Validation\n",
    "First we look at how much time of the total block validation is spent in applyTransactions.\n",
    "We group and count blocks by (total time / `applyTransactions` time) ratio.\n",
    "We see that `applyTransactions` is < 50% for roughly 80% of the blocks.\n",
    "For more ~40% of the blocks:\n",
    "1) the ratio is above 3, which means script validation is < 33%\n",
    "2) further analysis shows that time is spent in creating UtxoState (after applyTransaction)\n",
    "**Thus, creating UtxoState after application of transactions requires profiling and optimization.**"
   ]
  },
  {
   "cell_type": "code",
   "execution_count": 14,
   "metadata": {
    "pycharm": {
     "name": "#%%\n"
    }
   },
   "outputs": [
    {
     "data": {
      "text/plain": "    time_ratio  block_count\n0            1        70293\n1            2       155027\n2            3       207666\n3            4        21667\n4            5        20585\n5            6         5678\n6            7         2472\n7            8         1444\n8            9         1020\n9           10          666\n10          11          437\n11          12          283\n12          13          186\n13          14          106\n14          15           66\n15          16           73\n16          17           57\n17          18           41\n18          19           38\n19          20           34\n20          21           26\n21          22           37\n22          23           35\n23          24           25\n24          25           24\n25          26           18\n26          27           10\n27          28           11\n28          29           16\n29          30            4\n30          31            5\n31          32            5\n32          33            9\n33          34            7\n34          35            1\n35          36            3\n36          37            3\n37          38            2\n38          39            1\n39          40            1\n40          42            3\n41          44            1\n42          47            2\n43          49            1\n44          51            1\n45          52            2\n46         132            1\n47         139            1\n48         166            1\n49         208            1\n50         215            1\n51         229            1\n52         292            1\n53         327            1",
      "text/html": "<div>\n<style scoped>\n    .dataframe tbody tr th:only-of-type {\n        vertical-align: middle;\n    }\n\n    .dataframe tbody tr th {\n        vertical-align: top;\n    }\n\n    .dataframe thead th {\n        text-align: right;\n    }\n</style>\n<table border=\"1\" class=\"dataframe\">\n  <thead>\n    <tr style=\"text-align: right;\">\n      <th></th>\n      <th>time_ratio</th>\n      <th>block_count</th>\n    </tr>\n  </thead>\n  <tbody>\n    <tr>\n      <th>0</th>\n      <td>1</td>\n      <td>70293</td>\n    </tr>\n    <tr>\n      <th>1</th>\n      <td>2</td>\n      <td>155027</td>\n    </tr>\n    <tr>\n      <th>2</th>\n      <td>3</td>\n      <td>207666</td>\n    </tr>\n    <tr>\n      <th>3</th>\n      <td>4</td>\n      <td>21667</td>\n    </tr>\n    <tr>\n      <th>4</th>\n      <td>5</td>\n      <td>20585</td>\n    </tr>\n    <tr>\n      <th>5</th>\n      <td>6</td>\n      <td>5678</td>\n    </tr>\n    <tr>\n      <th>6</th>\n      <td>7</td>\n      <td>2472</td>\n    </tr>\n    <tr>\n      <th>7</th>\n      <td>8</td>\n      <td>1444</td>\n    </tr>\n    <tr>\n      <th>8</th>\n      <td>9</td>\n      <td>1020</td>\n    </tr>\n    <tr>\n      <th>9</th>\n      <td>10</td>\n      <td>666</td>\n    </tr>\n    <tr>\n      <th>10</th>\n      <td>11</td>\n      <td>437</td>\n    </tr>\n    <tr>\n      <th>11</th>\n      <td>12</td>\n      <td>283</td>\n    </tr>\n    <tr>\n      <th>12</th>\n      <td>13</td>\n      <td>186</td>\n    </tr>\n    <tr>\n      <th>13</th>\n      <td>14</td>\n      <td>106</td>\n    </tr>\n    <tr>\n      <th>14</th>\n      <td>15</td>\n      <td>66</td>\n    </tr>\n    <tr>\n      <th>15</th>\n      <td>16</td>\n      <td>73</td>\n    </tr>\n    <tr>\n      <th>16</th>\n      <td>17</td>\n      <td>57</td>\n    </tr>\n    <tr>\n      <th>17</th>\n      <td>18</td>\n      <td>41</td>\n    </tr>\n    <tr>\n      <th>18</th>\n      <td>19</td>\n      <td>38</td>\n    </tr>\n    <tr>\n      <th>19</th>\n      <td>20</td>\n      <td>34</td>\n    </tr>\n    <tr>\n      <th>20</th>\n      <td>21</td>\n      <td>26</td>\n    </tr>\n    <tr>\n      <th>21</th>\n      <td>22</td>\n      <td>37</td>\n    </tr>\n    <tr>\n      <th>22</th>\n      <td>23</td>\n      <td>35</td>\n    </tr>\n    <tr>\n      <th>23</th>\n      <td>24</td>\n      <td>25</td>\n    </tr>\n    <tr>\n      <th>24</th>\n      <td>25</td>\n      <td>24</td>\n    </tr>\n    <tr>\n      <th>25</th>\n      <td>26</td>\n      <td>18</td>\n    </tr>\n    <tr>\n      <th>26</th>\n      <td>27</td>\n      <td>10</td>\n    </tr>\n    <tr>\n      <th>27</th>\n      <td>28</td>\n      <td>11</td>\n    </tr>\n    <tr>\n      <th>28</th>\n      <td>29</td>\n      <td>16</td>\n    </tr>\n    <tr>\n      <th>29</th>\n      <td>30</td>\n      <td>4</td>\n    </tr>\n    <tr>\n      <th>30</th>\n      <td>31</td>\n      <td>5</td>\n    </tr>\n    <tr>\n      <th>31</th>\n      <td>32</td>\n      <td>5</td>\n    </tr>\n    <tr>\n      <th>32</th>\n      <td>33</td>\n      <td>9</td>\n    </tr>\n    <tr>\n      <th>33</th>\n      <td>34</td>\n      <td>7</td>\n    </tr>\n    <tr>\n      <th>34</th>\n      <td>35</td>\n      <td>1</td>\n    </tr>\n    <tr>\n      <th>35</th>\n      <td>36</td>\n      <td>3</td>\n    </tr>\n    <tr>\n      <th>36</th>\n      <td>37</td>\n      <td>3</td>\n    </tr>\n    <tr>\n      <th>37</th>\n      <td>38</td>\n      <td>2</td>\n    </tr>\n    <tr>\n      <th>38</th>\n      <td>39</td>\n      <td>1</td>\n    </tr>\n    <tr>\n      <th>39</th>\n      <td>40</td>\n      <td>1</td>\n    </tr>\n    <tr>\n      <th>40</th>\n      <td>42</td>\n      <td>3</td>\n    </tr>\n    <tr>\n      <th>41</th>\n      <td>44</td>\n      <td>1</td>\n    </tr>\n    <tr>\n      <th>42</th>\n      <td>47</td>\n      <td>2</td>\n    </tr>\n    <tr>\n      <th>43</th>\n      <td>49</td>\n      <td>1</td>\n    </tr>\n    <tr>\n      <th>44</th>\n      <td>51</td>\n      <td>1</td>\n    </tr>\n    <tr>\n      <th>45</th>\n      <td>52</td>\n      <td>2</td>\n    </tr>\n    <tr>\n      <th>46</th>\n      <td>132</td>\n      <td>1</td>\n    </tr>\n    <tr>\n      <th>47</th>\n      <td>139</td>\n      <td>1</td>\n    </tr>\n    <tr>\n      <th>48</th>\n      <td>166</td>\n      <td>1</td>\n    </tr>\n    <tr>\n      <th>49</th>\n      <td>208</td>\n      <td>1</td>\n    </tr>\n    <tr>\n      <th>50</th>\n      <td>215</td>\n      <td>1</td>\n    </tr>\n    <tr>\n      <th>51</th>\n      <td>229</td>\n      <td>1</td>\n    </tr>\n    <tr>\n      <th>52</th>\n      <td>292</td>\n      <td>1</td>\n    </tr>\n    <tr>\n      <th>53</th>\n      <td>327</td>\n      <td>1</td>\n    </tr>\n  </tbody>\n</table>\n</div>"
     },
     "execution_count": 14,
     "metadata": {},
     "output_type": "execute_result"
    }
   ],
   "source": [
    "pd.read_sql_query(f\"\"\"\n",
    "select time_us / t2_us as time_ratio, count(*) as block_count\n",
    "from (select b1.blockId,\n",
    "             b1.height,\n",
    "             b1.tx_num,\n",
    "             b2.cost,\n",
    "             b1.time / 1000                       as t1_us,\n",
    "             b2.time / 1000                       as t2_us,\n",
    "             b3.time / 1000                       as t3_us,\n",
    "             (b1.time + b2.time + b3.time) / 1000 as time_us\n",
    "      from appendFullBlock as b1\n",
    "               join applyTransactions as b2 on b1.blockId = b2.blockId\n",
    "               join createUtxoState b3 on b1.blockId = b3.blockId)\n",
    "group by time_ratio\n",
    "order by time_ratio;\n",
    "\"\"\", conn)\n"
   ]
  },
  {
   "cell_type": "markdown",
   "metadata": {
    "pycharm": {
     "name": "#%% md\n"
    }
   },
   "source": [
    "#### Comparing applyTransaction of block with validateTxStateful\n",
    "Here we further drill down to applyTransactions part of block validation.\n",
    "Specifically, for each block we compare the time of `UtxoState.applyTransactions` with total time\n",
    "of `ErgoTransaction.validateStateful` taken for all transactions in the block.\n",
    "The blocks are grouped by the ratio between times.\n",
    "We can see that for > 70% blocks the ration is above 2, which suggests that\n",
    "**`UtxoState.applyTransactions` method need optimizations.**"
   ]
  },
  {
   "cell_type": "code",
   "execution_count": 15,
   "metadata": {
    "pycharm": {
     "name": "#%%\n"
    }
   },
   "outputs": [
    {
     "data": {
      "text/plain": "    time_ratio  block_count  avg_block_time_us  avg_tx_time_us  avg_tx_count\n0            1       148957            17974.0         15156.0           6.6\n1            2       170380             1193.0           425.0           1.0\n2            3       167950             1151.0           375.0           1.0\n3            4          256             3337.0           749.0           1.3\n4            5          138             3965.0           725.0           1.3\n..         ...          ...                ...             ...           ...\n63          75            1            31507.0           417.0           1.0\n64          82            1            32388.0           392.0           1.0\n65          83            1            33706.0           404.0           1.0\n66          86            1            41055.0           477.0           1.0\n67          88            1            31910.0           362.0           1.0\n\n[68 rows x 5 columns]",
      "text/html": "<div>\n<style scoped>\n    .dataframe tbody tr th:only-of-type {\n        vertical-align: middle;\n    }\n\n    .dataframe tbody tr th {\n        vertical-align: top;\n    }\n\n    .dataframe thead th {\n        text-align: right;\n    }\n</style>\n<table border=\"1\" class=\"dataframe\">\n  <thead>\n    <tr style=\"text-align: right;\">\n      <th></th>\n      <th>time_ratio</th>\n      <th>block_count</th>\n      <th>avg_block_time_us</th>\n      <th>avg_tx_time_us</th>\n      <th>avg_tx_count</th>\n    </tr>\n  </thead>\n  <tbody>\n    <tr>\n      <th>0</th>\n      <td>1</td>\n      <td>148957</td>\n      <td>17974.0</td>\n      <td>15156.0</td>\n      <td>6.6</td>\n    </tr>\n    <tr>\n      <th>1</th>\n      <td>2</td>\n      <td>170380</td>\n      <td>1193.0</td>\n      <td>425.0</td>\n      <td>1.0</td>\n    </tr>\n    <tr>\n      <th>2</th>\n      <td>3</td>\n      <td>167950</td>\n      <td>1151.0</td>\n      <td>375.0</td>\n      <td>1.0</td>\n    </tr>\n    <tr>\n      <th>3</th>\n      <td>4</td>\n      <td>256</td>\n      <td>3337.0</td>\n      <td>749.0</td>\n      <td>1.3</td>\n    </tr>\n    <tr>\n      <th>4</th>\n      <td>5</td>\n      <td>138</td>\n      <td>3965.0</td>\n      <td>725.0</td>\n      <td>1.3</td>\n    </tr>\n    <tr>\n      <th>...</th>\n      <td>...</td>\n      <td>...</td>\n      <td>...</td>\n      <td>...</td>\n      <td>...</td>\n    </tr>\n    <tr>\n      <th>63</th>\n      <td>75</td>\n      <td>1</td>\n      <td>31507.0</td>\n      <td>417.0</td>\n      <td>1.0</td>\n    </tr>\n    <tr>\n      <th>64</th>\n      <td>82</td>\n      <td>1</td>\n      <td>32388.0</td>\n      <td>392.0</td>\n      <td>1.0</td>\n    </tr>\n    <tr>\n      <th>65</th>\n      <td>83</td>\n      <td>1</td>\n      <td>33706.0</td>\n      <td>404.0</td>\n      <td>1.0</td>\n    </tr>\n    <tr>\n      <th>66</th>\n      <td>86</td>\n      <td>1</td>\n      <td>41055.0</td>\n      <td>477.0</td>\n      <td>1.0</td>\n    </tr>\n    <tr>\n      <th>67</th>\n      <td>88</td>\n      <td>1</td>\n      <td>31910.0</td>\n      <td>362.0</td>\n      <td>1.0</td>\n    </tr>\n  </tbody>\n</table>\n<p>68 rows × 5 columns</p>\n</div>"
     },
     "execution_count": 15,
     "metadata": {},
     "output_type": "execute_result"
    }
   ],
   "source": [
    "pd.read_sql_query(f\"\"\"\n",
    "select t.time_ratio / 10 as time_ratio,\n",
    "       count(*) as block_count,\n",
    "       round(avg(t.block_time_us), 0)  as avg_block_time_us,\n",
    "       round(avg(t.tx_time_us), 0) as avg_tx_time_us,\n",
    "       round(avg(t.tx_count), 1)   as avg_tx_count\n",
    "from (select b.blockId,\n",
    "             tx.tx_count,\n",
    "             b.time / 1000                        as block_time_us,\n",
    "             tx.sum_tx_time / 1000            as tx_time_us,\n",
    "             (b.time - tx.sum_tx_time) / 1000 as time_diff_us,\n",
    "             b.time * 10 / tx.sum_tx_time     as time_ratio\n",
    "      from (select blockId,\n",
    "                   sum(time) as sum_tx_time,\n",
    "                   count(*)  as tx_count\n",
    "            from validateTxStateful\n",
    "            group by blockId) as tx\n",
    "               join applyTransactions as b on b.blockId = tx.blockId) as t\n",
    "group by t.time_ratio / 10\n",
    "order by t.time_ratio / 10;\n",
    "\"\"\", conn)\n"
   ]
  },
  {
   "cell_type": "markdown",
   "metadata": {},
   "source": [
    "#### Tx/Script validation time ratio\n",
    "Further down to validation call stack, we observe how much `validateStateful` time larger than\n",
    "script verification time.\n",
    "The ratio is computed for each transaction and then the transactions are grouped by integer ratio.\n",
    "Comparing times in `verifyScript` and `validateTxStateful` metrics.\n",
    "We see that for most transactions, `verifyScript` is > 50% of `validateStateful`."
   ]
  },
  {
   "cell_type": "code",
   "execution_count": 18,
   "metadata": {
    "pycharm": {
     "name": "#%%\n"
    }
   },
   "outputs": [
    {
     "data": {
      "text/plain": "    time_ratio  tx_count  avg_tx_time_us  avg_script_time_us  avg_script_count\n0            1   1321331          1806.3              1765.3               2.9\n1            2       154          7181.1              2900.2               6.1\n2            3        63         11364.8              3407.0               8.5\n3            4        43         14648.4              3341.8               7.6\n4            5        24         12482.9              2229.4               4.5\n5            6        30         11152.2              1712.3               4.7\n6            7        24         22004.2              3038.2               6.2\n7            8        14          9936.7              1192.9               3.0\n8            9         7         18300.3              1928.6               5.1\n9           10        10         10140.6               972.2               4.3\n10          11         7         12251.3              1091.3               4.0\n11          12         9         66606.8              5249.7              12.3\n12          13         6         55290.5              4154.7              12.3\n13          14         2         25408.5              1772.5               2.0\n14          15         8         21613.8              1401.9               2.9\n15          16         3         24489.7              1463.7               3.7\n16          17         4          9498.5               547.8               1.3\n17          18         5         11864.2               646.8               2.0\n18          19         5         14664.4               739.6               1.8\n19          20         3         26642.3              1316.7               3.3\n20          21         5         10858.8               506.4               1.6\n21          22         5         15152.0               675.6               3.0\n22          23         5         12719.6               543.8               1.4\n23          24         5          8051.6               323.2               1.0\n24          26         1         10179.0               377.0               1.0\n25          34         2          7845.5               228.0               1.0\n26          35         2         27151.5               756.5               4.5\n27          37         1         17464.0               464.0               1.0\n28          43         1         42704.0               972.0               6.0\n29          44         1          6739.0               152.0               1.0\n30          48         1         22134.0               460.0               1.0\n31          56         1         21106.0               373.0               1.0\n32          59         1         29897.0               505.0               1.0\n33          60         1          9782.0               160.0               1.0\n34          61         1         17317.0               279.0               2.0\n35          69         1         25691.0               370.0               1.0\n36          72         1         37181.0               509.0               1.0\n37          75         1         36907.0               486.0               1.0\n38          82         1        116033.0              1410.0               3.0\n39          96         1         30594.0               317.0               1.0\n40         107         1         34966.0               324.0               1.0\n41         129         1        239188.0              1853.0               2.0",
      "text/html": "<div>\n<style scoped>\n    .dataframe tbody tr th:only-of-type {\n        vertical-align: middle;\n    }\n\n    .dataframe tbody tr th {\n        vertical-align: top;\n    }\n\n    .dataframe thead th {\n        text-align: right;\n    }\n</style>\n<table border=\"1\" class=\"dataframe\">\n  <thead>\n    <tr style=\"text-align: right;\">\n      <th></th>\n      <th>time_ratio</th>\n      <th>tx_count</th>\n      <th>avg_tx_time_us</th>\n      <th>avg_script_time_us</th>\n      <th>avg_script_count</th>\n    </tr>\n  </thead>\n  <tbody>\n    <tr>\n      <th>0</th>\n      <td>1</td>\n      <td>1321331</td>\n      <td>1806.3</td>\n      <td>1765.3</td>\n      <td>2.9</td>\n    </tr>\n    <tr>\n      <th>1</th>\n      <td>2</td>\n      <td>154</td>\n      <td>7181.1</td>\n      <td>2900.2</td>\n      <td>6.1</td>\n    </tr>\n    <tr>\n      <th>2</th>\n      <td>3</td>\n      <td>63</td>\n      <td>11364.8</td>\n      <td>3407.0</td>\n      <td>8.5</td>\n    </tr>\n    <tr>\n      <th>3</th>\n      <td>4</td>\n      <td>43</td>\n      <td>14648.4</td>\n      <td>3341.8</td>\n      <td>7.6</td>\n    </tr>\n    <tr>\n      <th>4</th>\n      <td>5</td>\n      <td>24</td>\n      <td>12482.9</td>\n      <td>2229.4</td>\n      <td>4.5</td>\n    </tr>\n    <tr>\n      <th>5</th>\n      <td>6</td>\n      <td>30</td>\n      <td>11152.2</td>\n      <td>1712.3</td>\n      <td>4.7</td>\n    </tr>\n    <tr>\n      <th>6</th>\n      <td>7</td>\n      <td>24</td>\n      <td>22004.2</td>\n      <td>3038.2</td>\n      <td>6.2</td>\n    </tr>\n    <tr>\n      <th>7</th>\n      <td>8</td>\n      <td>14</td>\n      <td>9936.7</td>\n      <td>1192.9</td>\n      <td>3.0</td>\n    </tr>\n    <tr>\n      <th>8</th>\n      <td>9</td>\n      <td>7</td>\n      <td>18300.3</td>\n      <td>1928.6</td>\n      <td>5.1</td>\n    </tr>\n    <tr>\n      <th>9</th>\n      <td>10</td>\n      <td>10</td>\n      <td>10140.6</td>\n      <td>972.2</td>\n      <td>4.3</td>\n    </tr>\n    <tr>\n      <th>10</th>\n      <td>11</td>\n      <td>7</td>\n      <td>12251.3</td>\n      <td>1091.3</td>\n      <td>4.0</td>\n    </tr>\n    <tr>\n      <th>11</th>\n      <td>12</td>\n      <td>9</td>\n      <td>66606.8</td>\n      <td>5249.7</td>\n      <td>12.3</td>\n    </tr>\n    <tr>\n      <th>12</th>\n      <td>13</td>\n      <td>6</td>\n      <td>55290.5</td>\n      <td>4154.7</td>\n      <td>12.3</td>\n    </tr>\n    <tr>\n      <th>13</th>\n      <td>14</td>\n      <td>2</td>\n      <td>25408.5</td>\n      <td>1772.5</td>\n      <td>2.0</td>\n    </tr>\n    <tr>\n      <th>14</th>\n      <td>15</td>\n      <td>8</td>\n      <td>21613.8</td>\n      <td>1401.9</td>\n      <td>2.9</td>\n    </tr>\n    <tr>\n      <th>15</th>\n      <td>16</td>\n      <td>3</td>\n      <td>24489.7</td>\n      <td>1463.7</td>\n      <td>3.7</td>\n    </tr>\n    <tr>\n      <th>16</th>\n      <td>17</td>\n      <td>4</td>\n      <td>9498.5</td>\n      <td>547.8</td>\n      <td>1.3</td>\n    </tr>\n    <tr>\n      <th>17</th>\n      <td>18</td>\n      <td>5</td>\n      <td>11864.2</td>\n      <td>646.8</td>\n      <td>2.0</td>\n    </tr>\n    <tr>\n      <th>18</th>\n      <td>19</td>\n      <td>5</td>\n      <td>14664.4</td>\n      <td>739.6</td>\n      <td>1.8</td>\n    </tr>\n    <tr>\n      <th>19</th>\n      <td>20</td>\n      <td>3</td>\n      <td>26642.3</td>\n      <td>1316.7</td>\n      <td>3.3</td>\n    </tr>\n    <tr>\n      <th>20</th>\n      <td>21</td>\n      <td>5</td>\n      <td>10858.8</td>\n      <td>506.4</td>\n      <td>1.6</td>\n    </tr>\n    <tr>\n      <th>21</th>\n      <td>22</td>\n      <td>5</td>\n      <td>15152.0</td>\n      <td>675.6</td>\n      <td>3.0</td>\n    </tr>\n    <tr>\n      <th>22</th>\n      <td>23</td>\n      <td>5</td>\n      <td>12719.6</td>\n      <td>543.8</td>\n      <td>1.4</td>\n    </tr>\n    <tr>\n      <th>23</th>\n      <td>24</td>\n      <td>5</td>\n      <td>8051.6</td>\n      <td>323.2</td>\n      <td>1.0</td>\n    </tr>\n    <tr>\n      <th>24</th>\n      <td>26</td>\n      <td>1</td>\n      <td>10179.0</td>\n      <td>377.0</td>\n      <td>1.0</td>\n    </tr>\n    <tr>\n      <th>25</th>\n      <td>34</td>\n      <td>2</td>\n      <td>7845.5</td>\n      <td>228.0</td>\n      <td>1.0</td>\n    </tr>\n    <tr>\n      <th>26</th>\n      <td>35</td>\n      <td>2</td>\n      <td>27151.5</td>\n      <td>756.5</td>\n      <td>4.5</td>\n    </tr>\n    <tr>\n      <th>27</th>\n      <td>37</td>\n      <td>1</td>\n      <td>17464.0</td>\n      <td>464.0</td>\n      <td>1.0</td>\n    </tr>\n    <tr>\n      <th>28</th>\n      <td>43</td>\n      <td>1</td>\n      <td>42704.0</td>\n      <td>972.0</td>\n      <td>6.0</td>\n    </tr>\n    <tr>\n      <th>29</th>\n      <td>44</td>\n      <td>1</td>\n      <td>6739.0</td>\n      <td>152.0</td>\n      <td>1.0</td>\n    </tr>\n    <tr>\n      <th>30</th>\n      <td>48</td>\n      <td>1</td>\n      <td>22134.0</td>\n      <td>460.0</td>\n      <td>1.0</td>\n    </tr>\n    <tr>\n      <th>31</th>\n      <td>56</td>\n      <td>1</td>\n      <td>21106.0</td>\n      <td>373.0</td>\n      <td>1.0</td>\n    </tr>\n    <tr>\n      <th>32</th>\n      <td>59</td>\n      <td>1</td>\n      <td>29897.0</td>\n      <td>505.0</td>\n      <td>1.0</td>\n    </tr>\n    <tr>\n      <th>33</th>\n      <td>60</td>\n      <td>1</td>\n      <td>9782.0</td>\n      <td>160.0</td>\n      <td>1.0</td>\n    </tr>\n    <tr>\n      <th>34</th>\n      <td>61</td>\n      <td>1</td>\n      <td>17317.0</td>\n      <td>279.0</td>\n      <td>2.0</td>\n    </tr>\n    <tr>\n      <th>35</th>\n      <td>69</td>\n      <td>1</td>\n      <td>25691.0</td>\n      <td>370.0</td>\n      <td>1.0</td>\n    </tr>\n    <tr>\n      <th>36</th>\n      <td>72</td>\n      <td>1</td>\n      <td>37181.0</td>\n      <td>509.0</td>\n      <td>1.0</td>\n    </tr>\n    <tr>\n      <th>37</th>\n      <td>75</td>\n      <td>1</td>\n      <td>36907.0</td>\n      <td>486.0</td>\n      <td>1.0</td>\n    </tr>\n    <tr>\n      <th>38</th>\n      <td>82</td>\n      <td>1</td>\n      <td>116033.0</td>\n      <td>1410.0</td>\n      <td>3.0</td>\n    </tr>\n    <tr>\n      <th>39</th>\n      <td>96</td>\n      <td>1</td>\n      <td>30594.0</td>\n      <td>317.0</td>\n      <td>1.0</td>\n    </tr>\n    <tr>\n      <th>40</th>\n      <td>107</td>\n      <td>1</td>\n      <td>34966.0</td>\n      <td>324.0</td>\n      <td>1.0</td>\n    </tr>\n    <tr>\n      <th>41</th>\n      <td>129</td>\n      <td>1</td>\n      <td>239188.0</td>\n      <td>1853.0</td>\n      <td>2.0</td>\n    </tr>\n  </tbody>\n</table>\n</div>"
     },
     "execution_count": 18,
     "metadata": {},
     "output_type": "execute_result"
    }
   ],
   "source": [
    "pd.read_sql_query(f\"\"\"\n",
    "select t.time_ratio / 10 as time_ratio,\n",
    "       count(*) as tx_count,\n",
    "       round(avg(t.tx_time_us), 1) as avg_tx_time_us,\n",
    "       round(avg(t.script_time_us), 1) as avg_script_time_us,\n",
    "       round(avg(t.script_count), 1) as avg_script_count\n",
    "from (select tx.blockId,\n",
    "             tx.txId,\n",
    "             t.script_count,\n",
    "             tx.time / 1000                   as tx_time_us,\n",
    "             t.sum_script_time / 1000         as script_time_us,\n",
    "             tx.time * 10 / t.sum_script_time as time_ratio\n",
    "      from (select blockId,\n",
    "                   txId,\n",
    "                   sum(time) as sum_script_time,\n",
    "                   count(*)  as script_count\n",
    "            from verifyScript\n",
    "            group by blockId, txId) as t\n",
    "               join validateTxStateful as tx on tx.blockId = t.blockId and tx.txId = t.txId) as t\n",
    "group by t.time_ratio / 10\n",
    "order by t.time_ratio / 10;\n",
    "\"\"\", conn)\n"
   ]
  },
  {
   "cell_type": "markdown",
   "metadata": {},
   "source": [
    "We need to further drill down inside the mose populated group.\n",
    "We build a detailed grouping of the transactions where the ratio <= 1.9,\n",
    "comparing times in `verifyScript` and `validateTxStateful` metrics."
   ]
  },
  {
   "cell_type": "code",
   "execution_count": 17,
   "metadata": {
    "pycharm": {
     "name": "#%%\n"
    }
   },
   "outputs": [
    {
     "data": {
      "text/plain": "   time_ratio  tx_count  avg_tx_time_us  avg_script_time_us  avg_script_count\n0         1.0   1211507          1934.7              1895.0               3.0\n1         1.1    101236           337.2               299.3               1.2\n2         1.2      6944           736.0               599.2               1.6\n3         1.3       498          2257.4              1673.0               4.4\n4         1.4       869           970.4               671.6               2.2\n5         1.5       102          4768.1              3073.3               6.2\n6         1.6        51          5595.5              3370.3               9.6\n7         1.7        44          8933.2              5113.4              10.8\n8         1.8        42          6566.0              3518.1               8.1\n9         1.9        38          4534.5              2315.4               3.6",
      "text/html": "<div>\n<style scoped>\n    .dataframe tbody tr th:only-of-type {\n        vertical-align: middle;\n    }\n\n    .dataframe tbody tr th {\n        vertical-align: top;\n    }\n\n    .dataframe thead th {\n        text-align: right;\n    }\n</style>\n<table border=\"1\" class=\"dataframe\">\n  <thead>\n    <tr style=\"text-align: right;\">\n      <th></th>\n      <th>time_ratio</th>\n      <th>tx_count</th>\n      <th>avg_tx_time_us</th>\n      <th>avg_script_time_us</th>\n      <th>avg_script_count</th>\n    </tr>\n  </thead>\n  <tbody>\n    <tr>\n      <th>0</th>\n      <td>1.0</td>\n      <td>1211507</td>\n      <td>1934.7</td>\n      <td>1895.0</td>\n      <td>3.0</td>\n    </tr>\n    <tr>\n      <th>1</th>\n      <td>1.1</td>\n      <td>101236</td>\n      <td>337.2</td>\n      <td>299.3</td>\n      <td>1.2</td>\n    </tr>\n    <tr>\n      <th>2</th>\n      <td>1.2</td>\n      <td>6944</td>\n      <td>736.0</td>\n      <td>599.2</td>\n      <td>1.6</td>\n    </tr>\n    <tr>\n      <th>3</th>\n      <td>1.3</td>\n      <td>498</td>\n      <td>2257.4</td>\n      <td>1673.0</td>\n      <td>4.4</td>\n    </tr>\n    <tr>\n      <th>4</th>\n      <td>1.4</td>\n      <td>869</td>\n      <td>970.4</td>\n      <td>671.6</td>\n      <td>2.2</td>\n    </tr>\n    <tr>\n      <th>5</th>\n      <td>1.5</td>\n      <td>102</td>\n      <td>4768.1</td>\n      <td>3073.3</td>\n      <td>6.2</td>\n    </tr>\n    <tr>\n      <th>6</th>\n      <td>1.6</td>\n      <td>51</td>\n      <td>5595.5</td>\n      <td>3370.3</td>\n      <td>9.6</td>\n    </tr>\n    <tr>\n      <th>7</th>\n      <td>1.7</td>\n      <td>44</td>\n      <td>8933.2</td>\n      <td>5113.4</td>\n      <td>10.8</td>\n    </tr>\n    <tr>\n      <th>8</th>\n      <td>1.8</td>\n      <td>42</td>\n      <td>6566.0</td>\n      <td>3518.1</td>\n      <td>8.1</td>\n    </tr>\n    <tr>\n      <th>9</th>\n      <td>1.9</td>\n      <td>38</td>\n      <td>4534.5</td>\n      <td>2315.4</td>\n      <td>3.6</td>\n    </tr>\n  </tbody>\n</table>\n</div>"
     },
     "execution_count": 17,
     "metadata": {},
     "output_type": "execute_result"
    }
   ],
   "source": [
    "pd.read_sql_query(f\"\"\"\n",
    "select round(t.time_ratio * 0.1, 1) as time_ratio,\n",
    "       count(*) as tx_count,\n",
    "       round(avg(t.tx_time_us), 1) as avg_tx_time_us,\n",
    "       round(avg(t.script_time_us), 1) as avg_script_time_us,\n",
    "       round(avg(t.script_count), 1) as avg_script_count\n",
    "from (select tx.blockId,\n",
    "             tx.txId,\n",
    "             t.script_count,\n",
    "             tx.time / 1000                   as tx_time_us,\n",
    "             t.sum_script_time / 1000         as script_time_us,\n",
    "             tx.time * 10 / t.sum_script_time as time_ratio\n",
    "      from (select blockId,\n",
    "                   txId,\n",
    "                   sum(time) as sum_script_time,\n",
    "                   count(*)  as script_count\n",
    "            from verifyScript\n",
    "            group by blockId, txId) as t\n",
    "               join validateTxStateful as tx on tx.blockId = t.blockId and tx.txId = t.txId) as t\n",
    "where t.time_ratio <= 19\n",
    "group by t.time_ratio\n",
    "order by t.time_ratio;\n",
    "\"\"\", conn)\n"
   ]
  },
  {
   "cell_type": "markdown",
   "metadata": {},
   "source": [
    "Count transactions where script validation <= 80% of `validateStatefull`.\n",
    "This DOESN'T show big potential for optimizing `validateStateful` outside script evaluation.\n",
    "Comparing times in `verifyScript` and `validateTxStateful` metrics."
   ]
  },
  {
   "cell_type": "code",
   "execution_count": 12,
   "metadata": {
    "pycharm": {
     "name": "#%%\n"
    }
   },
   "outputs": [
    {
     "data": {
      "text/html": [
       "<div>\n",
       "<style scoped>\n",
       "    .dataframe tbody tr th:only-of-type {\n",
       "        vertical-align: middle;\n",
       "    }\n",
       "\n",
       "    .dataframe tbody tr th {\n",
       "        vertical-align: top;\n",
       "    }\n",
       "\n",
       "    .dataframe thead th {\n",
       "        text-align: right;\n",
       "    }\n",
       "</style>\n",
       "<table border=\"1\" class=\"dataframe\">\n",
       "  <thead>\n",
       "    <tr style=\"text-align: right;\">\n",
       "      <th></th>\n",
       "      <th>count(*)</th>\n",
       "    </tr>\n",
       "  </thead>\n",
       "  <tbody>\n",
       "    <tr>\n",
       "      <th>0</th>\n",
       "      <td>9049</td>\n",
       "    </tr>\n",
       "  </tbody>\n",
       "</table>\n",
       "</div>"
      ],
      "text/plain": [
       "   count(*)\n",
       "0      9049"
      ]
     },
     "execution_count": 12,
     "metadata": {},
     "output_type": "execute_result"
    }
   ],
   "source": [
    "pd.read_sql_query(f\"\"\"\n",
    "select count(*) as tx_count\n",
    "from (select tx.blockId,\n",
    "             tx.txId,\n",
    "             t.script_count,\n",
    "             tx.time / 1000                   as tx_time_us,\n",
    "             t.sum_script_time / 1000         as script_time_us,\n",
    "             tx.time * 10 / t.sum_script_time as time_ratio\n",
    "      from (select blockId,\n",
    "                   txId,\n",
    "                   sum(time) as sum_script_time,\n",
    "                   count(*)  as script_count\n",
    "            from verifyScript\n",
    "            group by blockId, txId) as t\n",
    "               join validateTxStateful as tx on tx.blockId = t.blockId and tx.txId = t.txId) as t\n",
    "where t.time_ratio >= 12;\n",
    "\"\"\", conn)\n"
   ]
  },
  {
   "cell_type": "markdown",
   "metadata": {
    "pycharm": {
     "name": "#%% md\n"
    }
   },
   "source": [
    "Conclusions:\n",
    "- In most of the cases the time to validate transaction (`validateStateful` method) is dominated by\n",
    "the script validation time\n",
    "- There is a few transactions where script validation not greater than 80% of tx validation time.\n",
    "- The results suggest that `validateStateful` doesn't require optimizations, or at least it can\n",
    "be done after the other parts of block validation had been optimized.\n"
   ]
  }
 ],
 "metadata": {
  "celltoolbar": "Tags",
  "kernelspec": {
   "display_name": "Python 3",
   "language": "python",
   "name": "python3"
  },
  "language_info": {
   "codemirror_mode": {
    "name": "ipython",
    "version": 3
   },
   "file_extension": ".py",
   "mimetype": "text/x-python",
   "name": "python",
   "nbconvert_exporter": "python",
   "pygments_lexer": "ipython3",
   "version": "3.9.0"
  }
 },
 "nbformat": 4,
 "nbformat_minor": 1
}