{
 "cells": [
  {
   "cell_type": "markdown",
   "metadata": {},
   "source": [
    "\n",
    "# Performance And Costing Analysis of Ergo Node\n",
    "\n",
    "## Introduction\n",
    "Thds notebook uses `Metrics.sqlite` database collected during full node syncronization.\n",
    "See `README.md` for detail of database schema.\n"
   ]
  },
  {
   "cell_type": "markdown",
   "metadata": {},
   "source": [
    "\n",
    "## Setup\n",
    "If necessary uncomment and run the following commands to setup necessary packages.\n"
   ]
  },
  {
   "cell_type": "code",
   "execution_count": 15,
   "metadata": {},
   "outputs": [
    {
     "name": "stdout",
     "output_type": "stream",
     "text": [
      "Enabling notebook extension python-markdown/main...\r\n",
      "      - Validating: \u001B[32mOK\u001B[0m\r\n"
     ]
    }
   ],
   "source": [
    "#!pip install ipython-sql\n",
    "#!pip install jupyter_contrib_nbextensions\n",
    "#!jupyter contrib nbextension install --user\n",
    "!jupyter nbextension enable python-markdown/main\n"
   ]
  },
  {
   "cell_type": "code",
   "execution_count": 16,
   "metadata": {
    "pycharm": {
     "name": "#%%\n"
    },
    "tags": [
     "hide"
    ]
   },
   "outputs": [],
   "source": [
    "# open sqlite connection to perform helper queries\n",
    "import pandas as pd\n",
    "import sqlite3\n",
    "conn = sqlite3.connect(\"../Metrics.sqlite\")"
   ]
  },
  {
   "cell_type": "code",
   "execution_count": 17,
   "metadata": {
    "pycharm": {
     "name": "#%%\n"
    }
   },
   "outputs": [],
   "source": [
    "checks = dict(\n",
    "    appendFullBlockOk=pd.read_sql_query(f\"\"\"\n",
    "        -- validate appendFullBlock tables\n",
    "        select *\n",
    "        from appendFullBlock a1\n",
    "                 join appendFullBlock4 a2 on a1.blockId = a2.blockId\n",
    "        where a1.height != a2.height\n",
    "           or a1.tx_num != a2.tx_num;\n",
    "        \"\"\", conn).size == 0,\n",
    "    applyTransactionsOk = pd.read_sql_query(f\"\"\"\n",
    "        select *\n",
    "        from applyTransactions a1\n",
    "                 join applyTransactions4 a2 on a1.blockId = a2.blockId\n",
    "        where a1.height != a2.height\n",
    "           or a1.tx_num != a2.tx_num;\n",
    "        \"\"\", conn).size == 0,\n",
    "    createUtxoStateOk = pd.read_sql_query(f\"\"\"\n",
    "        select *\n",
    "        from createUtxoState a1\n",
    "                 join createUtxoState4 a2 on a1.blockId = a2.blockId\n",
    "        where a1.height != a2.height\n",
    "           or a1.tx_num != a2.tx_num;\n",
    "        \"\"\", conn).size == 0\n",
    ")\n",
    "if not (checks.get(\"appendFullBlockOk\") and checks.get(\"applyTransactionsOk\") and checks.get(\"createUtxoStateOk\")):\n",
    "  ok = checks\n",
    "else:\n",
    "  ok = \"ok\""
   ]
  },
  {
   "cell_type": "markdown",
   "metadata": {
    "pycharm": {
     "name": "#%% md\n"
    },
    "variables": {
     " ok ": "ok",
     "-ok-": "<p><strong>SyntaxError</strong>: invalid syntax (<ipython-input-12-7b1f9aef2133>, line 1)</p>\n"
    }
   },
   "source": [
    "## Sanity checks: {{ ok }}\n"
   ]
  },
  {
   "cell_type": "code",
   "execution_count": null,
   "metadata": {
    "pycharm": {
     "name": "#%%\n"
    }
   },
   "outputs": [],
   "source": [
    "\n"
   ]
  }
 ],
 "metadata": {
  "celltoolbar": "Tags",
  "kernelspec": {
   "display_name": "Python 3",
   "language": "python",
   "name": "python3"
  },
  "language_info": {
   "codemirror_mode": {
    "name": "ipython",
    "version": 3
   },
   "file_extension": ".py",
   "mimetype": "text/x-python",
   "name": "python",
   "nbconvert_exporter": "python",
   "pygments_lexer": "ipython3",
   "version": "3.8.5"
  }
 },
 "nbformat": 4,
 "nbformat_minor": 1
}